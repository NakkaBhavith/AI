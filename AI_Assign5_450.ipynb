{
  "nbformat": 4,
  "nbformat_minor": 0,
  "metadata": {
    "colab": {
      "name": "AI_Assign5_450.ipynb",
      "provenance": [],
      "collapsed_sections": [],
      "mount_file_id": "14CeqOCraSbHeFyzVcjBuF0HUEfguOuDR",
      "authorship_tag": "ABX9TyNaWtcDnViBL0/R7fY6xuM9",
      "include_colab_link": true
    },
    "kernelspec": {
      "name": "python3",
      "display_name": "Python 3"
    },
    "language_info": {
      "name": "python"
    }
  },
  "cells": [
    {
      "cell_type": "markdown",
      "metadata": {
        "id": "view-in-github",
        "colab_type": "text"
      },
      "source": [
        "<a href=\"https://colab.research.google.com/github/NakkaBhavith/AI/blob/main/AI_Assign5_450.ipynb\" target=\"_parent\"><img src=\"https://colab.research.google.com/assets/colab-badge.svg\" alt=\"Open In Colab\"/></a>"
      ]
    },
    {
      "cell_type": "code",
      "metadata": {
        "id": "vQOoVij-EAff"
      },
      "source": [
        "from google.colab import drive\n",
        "drive.mount('/content/drive')"
      ],
      "execution_count": null,
      "outputs": []
    },
    {
      "cell_type": "code",
      "metadata": {
        "id": "A1u2KIb-Gv3f"
      },
      "source": [
        "import numpy as np\n",
        "import math as mt\n",
        "import pandas as pd\n",
        "from sklearn.model_selection import train_test_split\n",
        "from sklearn.metrics import mean_absolute_error,mean_squared_error"
      ],
      "execution_count": 33,
      "outputs": []
    },
    {
      "cell_type": "code",
      "metadata": {
        "id": "9bCyhADxBzpG",
        "colab": {
          "base_uri": "https://localhost:8080/",
          "height": 206
        },
        "outputId": "37e994dd-92c9-4297-8145-aba8728d75c5"
      },
      "source": [
        "data = pd.read_excel('/content/drive/MyDrive/AI Data/Assign5_data.xlsx')\n",
        "data.head()"
      ],
      "execution_count": 34,
      "outputs": [
        {
          "output_type": "execute_result",
          "data": {
            "text/html": [
              "<div>\n",
              "<style scoped>\n",
              "    .dataframe tbody tr th:only-of-type {\n",
              "        vertical-align: middle;\n",
              "    }\n",
              "\n",
              "    .dataframe tbody tr th {\n",
              "        vertical-align: top;\n",
              "    }\n",
              "\n",
              "    .dataframe thead th {\n",
              "        text-align: right;\n",
              "    }\n",
              "</style>\n",
              "<table border=\"1\" class=\"dataframe\">\n",
              "  <thead>\n",
              "    <tr style=\"text-align: right;\">\n",
              "      <th></th>\n",
              "      <th>Unnamed: 0</th>\n",
              "      <th>L(T-3)</th>\n",
              "      <th>L(T-2)</th>\n",
              "      <th>L(T-1)</th>\n",
              "      <th>L(T)</th>\n",
              "    </tr>\n",
              "  </thead>\n",
              "  <tbody>\n",
              "    <tr>\n",
              "      <th>0</th>\n",
              "      <td>1</td>\n",
              "      <td>5551.82208</td>\n",
              "      <td>4983.17184</td>\n",
              "      <td>4888.39680</td>\n",
              "      <td>5072.95872</td>\n",
              "    </tr>\n",
              "    <tr>\n",
              "      <th>1</th>\n",
              "      <td>2</td>\n",
              "      <td>5196.25980</td>\n",
              "      <td>5641.29720</td>\n",
              "      <td>7153.17732</td>\n",
              "      <td>7849.80504</td>\n",
              "    </tr>\n",
              "    <tr>\n",
              "      <th>2</th>\n",
              "      <td>3</td>\n",
              "      <td>6329.97504</td>\n",
              "      <td>6292.87560</td>\n",
              "      <td>5349.80160</td>\n",
              "      <td>5225.40936</td>\n",
              "    </tr>\n",
              "    <tr>\n",
              "      <th>3</th>\n",
              "      <td>4</td>\n",
              "      <td>5000.47452</td>\n",
              "      <td>4775.53968</td>\n",
              "      <td>6177.05676</td>\n",
              "      <td>6177.05676</td>\n",
              "    </tr>\n",
              "    <tr>\n",
              "      <th>4</th>\n",
              "      <td>5</td>\n",
              "      <td>6155.70120</td>\n",
              "      <td>6212.12976</td>\n",
              "      <td>7424.25264</td>\n",
              "      <td>7407.41760</td>\n",
              "    </tr>\n",
              "  </tbody>\n",
              "</table>\n",
              "</div>"
            ],
            "text/plain": [
              "   Unnamed: 0      L(T-3)      L(T-2)      L(T-1)        L(T)\n",
              "0           1  5551.82208  4983.17184  4888.39680  5072.95872\n",
              "1           2  5196.25980  5641.29720  7153.17732  7849.80504\n",
              "2           3  6329.97504  6292.87560  5349.80160  5225.40936\n",
              "3           4  5000.47452  4775.53968  6177.05676  6177.05676\n",
              "4           5  6155.70120  6212.12976  7424.25264  7407.41760"
            ]
          },
          "metadata": {},
          "execution_count": 34
        }
      ]
    },
    {
      "cell_type": "code",
      "metadata": {
        "id": "Gg4VOWWODMIj"
      },
      "source": [
        "def normalize(column):\n",
        "    c_max, c_min = np.max(column), np.min(column)\n",
        "    for i in range(len(column)):\n",
        "        column.iloc[i] = (column.iloc[i] - c_min) / (c_max - c_min)\n",
        "    return c_max, c_min\n",
        "x1max, x1min = normalize(data['L(T-3)'])\n",
        "x2max, x2min = normalize(data['L(T-2)'])\n",
        "x3max, x3min = normalize(data['L(T-1)'])\n",
        "ymax, ymin = normalize(data['L(T)'])\n",
        "data.head()"
      ],
      "execution_count": null,
      "outputs": []
    },
    {
      "cell_type": "code",
      "metadata": {
        "colab": {
          "base_uri": "https://localhost:8080/"
        },
        "id": "7hmv3BDNEf9d",
        "outputId": "5dc25a1c-4d17-40a0-cbd8-7ebc6e19ffd3"
      },
      "source": [
        "data.isnull().sum()"
      ],
      "execution_count": 46,
      "outputs": [
        {
          "output_type": "execute_result",
          "data": {
            "text/plain": [
              "Unnamed: 0    0\n",
              "L(T-3)        0\n",
              "L(T-2)        0\n",
              "L(T-1)        0\n",
              "L(T)          0\n",
              "dtype: int64"
            ]
          },
          "metadata": {},
          "execution_count": 46
        }
      ]
    },
    {
      "cell_type": "code",
      "metadata": {
        "id": "5yf27AO-Ek-0"
      },
      "source": [
        "X = data [['L(T-3)', 'L(T-2)', 'L(T-1)']]\n",
        "Y = data ['L(T)']\n",
        "xtrain, xtest, ytrain, ytest = train_test_split(X, Y, test_size=0.1, random_state=101)"
      ],
      "execution_count": 37,
      "outputs": []
    },
    {
      "cell_type": "code",
      "metadata": {
        "id": "F9gEZcEXEtvU"
      },
      "source": [
        "m = [np.random.uniform(-1, 1) for i in range(xtrain.shape[1])]\n",
        "c = np.random.uniform(-1, 1)\n",
        "eeta = 0.001\n",
        "epochs = 10"
      ],
      "execution_count": 38,
      "outputs": []
    },
    {
      "cell_type": "code",
      "metadata": {
        "colab": {
          "base_uri": "https://localhost:8080/"
        },
        "id": "t-59dG4wEvY_",
        "outputId": "0090d7a5-9a63-4e0c-9680-f64646147a3f"
      },
      "source": [
        "for _ in range(epochs):\n",
        "    for i in range(xtrain.shape[0]):\n",
        "        y, ypred = ytrain.iloc[i], sum([xtrain.iat[i,z] * m[z] for z in range(xtrain.shape[1])]) + c\n",
        "        gradm = [-1 * xtrain.iat[i,j] * (y - ypred) for j in range(xtrain.shape[1])]\n",
        "        gradc = -1 * (y - ypred)\n",
        "        c = c - eeta * gradc\n",
        "        for j in range(len(m)):\n",
        "            m[j] = m[j] - eeta * gradm[j]\n",
        "print(m, c)"
      ],
      "execution_count": 39,
      "outputs": [
        {
          "output_type": "stream",
          "name": "stdout",
          "text": [
            "[-0.4679652901110725, 0.3085161562014834, 0.25876486243616204] 0.10876454698745668\n"
          ]
        }
      ]
    },
    {
      "cell_type": "code",
      "metadata": {
        "id": "Gkj_eFVxEz7o"
      },
      "source": [
        "ytrainPred = []\n",
        "for x in range(xtrain.shape[0]):\n",
        "    ytrainPred.append(sum([xtrain.iat[x, z] * m[z] for z in range(xtrain.shape[1])]) + c)\n",
        "ytestPred = []\n",
        "for x in range(xtest.shape[0]):\n",
        "    ytestPred.append(sum([xtest.iat[x, z] * m[z] for z in range(xtest.shape[1])]) + c)"
      ],
      "execution_count": 40,
      "outputs": []
    },
    {
      "cell_type": "code",
      "metadata": {
        "id": "waL_0FbiFWn4"
      },
      "source": [
        "xtrain['L(T-3)'] = xtrain['L(T-3)'] * (x1max - x1min) + x1min\n",
        "xtrain['L(T-2)'] = xtrain['L(T-2)'] * (x2max - x2min) + x2min\n",
        "xtrain['L(T-1)'] = xtrain['L(T-1)'] * (x3max - x3min) + x3min\n",
        "ytrain = ytrain * (ymax - ymin) + ymin\n",
        "xtest['L(T-3)'] = xtest['L(T-3)'] * (x1max - x1min) + x1min\n",
        "xtest['L(T-2)'] = xtest['L(T-2)'] * (x2max - x2min) + x2min\n",
        "xtest['L(T-1)'] = xtest['L(T-1)'] * (x3max - x3min) + x3min\n",
        "ytest = ytest * (ymax - ymin) + ymin\n",
        "ytrainPred = np.multiply(ytrainPred, (ymax - ymin)) + ymin\n",
        "ytestPred = np.multiply(ytestPred, (ymax - ymin)) + ymin"
      ],
      "execution_count": null,
      "outputs": []
    },
    {
      "cell_type": "code",
      "metadata": {
        "colab": {
          "base_uri": "https://localhost:8080/"
        },
        "id": "39XGcj7VGfpk",
        "outputId": "cc56918b-78ec-4514-c00e-81002a12790f"
      },
      "source": [
        "#Compute the error for training and testing data\n",
        "MAE_Train = mean_absolute_error(ytrainPred, ytrain) #Testing MAE\n",
        "MSE_Train = mean_squared_error(ytrainPred, ytrain) #Testing MSE\n",
        "RMSE_Train = mean_squared_error(ytrainPred, ytrain) ** 0.5 #Testing RMSE\n",
        "MAE_Test = mean_absolute_error(ytestPred, ytest) #Testing MAE\n",
        "MSE_Test = mean_squared_error(ytestPred, ytest) #Testing MSE\n",
        "RMSE_Test = mean_squared_error(ytestPred, ytest) ** 0.5 #Testing RMSE\n",
        "print('Training Error :')\n",
        "print('Mean Absolute Error :', MAE_Train)\n",
        "print('Mean Squared Error :', MSE_Train)\n",
        "print('Root Mean Squared Error :', RMSE_Train)\n",
        "print('\\nTesting Error :')\n",
        "print('Mean Absolute Error :', MAE_Test)\n",
        "print('Mean Squared Error :', MSE_Test)\n",
        "print('Root Mean Squared Error :', RMSE_Test)"
      ],
      "execution_count": 42,
      "outputs": [
        {
          "output_type": "stream",
          "name": "stdout",
          "text": [
            "Training Error :\n",
            "Mean Absolute Error : 792.5684105920789\n",
            "Mean Squared Error : 1016126.3448983339\n",
            "Root Mean Squared Error : 1008.030924574407\n",
            "\n",
            "Testing Error :\n",
            "Mean Absolute Error : 341.4915997170683\n",
            "Mean Squared Error : 116616.5126773224\n",
            "Root Mean Squared Error : 341.4915997170683\n"
          ]
        }
      ]
    },
    {
      "cell_type": "code",
      "metadata": {
        "id": "wGg7W_JEHMFT"
      },
      "source": [
        "xtrain['Y_Train'] = ytrain\n",
        "xtrain['Y_Train_Prediction'] = ytrainPred\n",
        "xtrain"
      ],
      "execution_count": null,
      "outputs": []
    },
    {
      "cell_type": "code",
      "metadata": {
        "id": "LzTplRGIHSkr"
      },
      "source": [
        "xtest['Y_Test'] = ytest\n",
        "xtest['Y_Test_Prediction'] = ytestPred\n",
        "xtest"
      ],
      "execution_count": null,
      "outputs": []
    },
    {
      "cell_type": "code",
      "metadata": {
        "colab": {
          "base_uri": "https://localhost:8080/"
        },
        "id": "bb9judt4HZ48",
        "outputId": "ed0ecd05-10e4-41fa-ad92-3a49e11e41af"
      },
      "source": [
        "#Deployment\n",
        "x1 = float(input('Enter load at T-3 hours : '))\n",
        "x2 = float(input('Enter load at T-2 hours : '))\n",
        "x3 = float(input('Enter load at T-1 hours : '))\n",
        "x1Norm = (x1 - x1min) / (x1max - x1min)\n",
        "x2Norm = (x2 - x2min) / (x2max - x2min)\n",
        "x3Norm = (x3 - x3min) / (x3max - x3min)\n",
        "yPred = x1Norm * m[0] + x2Norm * m[1] + x3Norm * m[2] + c\n",
        "y = yPred * (ymax - ymin) + ymin\n",
        "print('Load at T hour :', y)3"
      ],
      "execution_count": 45,
      "outputs": [
        {
          "output_type": "stream",
          "name": "stdout",
          "text": [
            "Enter load at T-3 hours : 1500\n",
            "Enter load at T-2 hours : 2000\n",
            "Enter load at T-1 hours : 2500\n",
            "Load at T hour : 5034.538287431769\n"
          ]
        }
      ]
    }
  ]
}