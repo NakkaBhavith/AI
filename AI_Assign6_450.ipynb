{
  "nbformat": 4,
  "nbformat_minor": 0,
  "metadata": {
    "colab": {
      "name": "AI_Assign6_450.ipynb",
      "provenance": [],
      "collapsed_sections": [],
      "mount_file_id": "17URdJIySTRtZg08kghiUpFgIosdrnZA9",
      "authorship_tag": "ABX9TyPsepB8dwIqAYrpE0ur/9qy",
      "include_colab_link": true
    },
    "kernelspec": {
      "name": "python3",
      "display_name": "Python 3"
    },
    "language_info": {
      "name": "python"
    }
  },
  "cells": [
    {
      "cell_type": "markdown",
      "metadata": {
        "id": "view-in-github",
        "colab_type": "text"
      },
      "source": [
        "<a href=\"https://colab.research.google.com/github/NakkaBhavith/AI/blob/main/AI_Assign6_450.ipynb\" target=\"_parent\"><img src=\"https://colab.research.google.com/assets/colab-badge.svg\" alt=\"Open In Colab\"/></a>"
      ]
    },
    {
      "cell_type": "markdown",
      "metadata": {
        "id": "UoO9gK4K2ExQ"
      },
      "source": [
        "# **Mount Google Drive**"
      ]
    },
    {
      "cell_type": "code",
      "metadata": {
        "colab": {
          "base_uri": "https://localhost:8080/"
        },
        "id": "bdEhjLbk2O_0",
        "outputId": "325d92d5-38a7-44b5-d032-0ee9f8e0bfe1"
      },
      "source": [
        "from google.colab import drive\n",
        "drive.mount('/content/drive')"
      ],
      "execution_count": 2,
      "outputs": [
        {
          "output_type": "stream",
          "name": "stdout",
          "text": [
            "Drive already mounted at /content/drive; to attempt to forcibly remount, call drive.mount(\"/content/drive\", force_remount=True).\n"
          ]
        }
      ]
    },
    {
      "cell_type": "markdown",
      "metadata": {
        "id": "TV3Ycw1D2fkS"
      },
      "source": [
        "# **Import libraries**"
      ]
    },
    {
      "cell_type": "code",
      "metadata": {
        "id": "WSOVzZFE2k1Z"
      },
      "source": [
        "import numpy as np\n",
        "import math as mt\n",
        "import random\n",
        "import pandas as pd"
      ],
      "execution_count": 1,
      "outputs": []
    },
    {
      "cell_type": "markdown",
      "metadata": {
        "id": "t56qc_A62owl"
      },
      "source": [
        "# **Import Data**"
      ]
    },
    {
      "cell_type": "code",
      "metadata": {
        "colab": {
          "base_uri": "https://localhost:8080/",
          "height": 223
        },
        "id": "T5tP2lSy2wzt",
        "outputId": "7b6093ff-401a-4363-8bee-16285b933f21"
      },
      "source": [
        "data = pd.read_excel('/content/drive/MyDrive/AI Data/assign4_data.xls')\n",
        "data.head()"
      ],
      "execution_count": 3,
      "outputs": [
        {
          "output_type": "stream",
          "name": "stdout",
          "text": [
            "*** No CODEPAGE record, no encoding_override: will use 'ascii'\n"
          ]
        },
        {
          "output_type": "execute_result",
          "data": {
            "text/html": [
              "<div>\n",
              "<style scoped>\n",
              "    .dataframe tbody tr th:only-of-type {\n",
              "        vertical-align: middle;\n",
              "    }\n",
              "\n",
              "    .dataframe tbody tr th {\n",
              "        vertical-align: top;\n",
              "    }\n",
              "\n",
              "    .dataframe thead th {\n",
              "        text-align: right;\n",
              "    }\n",
              "</style>\n",
              "<table border=\"1\" class=\"dataframe\">\n",
              "  <thead>\n",
              "    <tr style=\"text-align: right;\">\n",
              "      <th></th>\n",
              "      <th>X</th>\n",
              "      <th>Y</th>\n",
              "    </tr>\n",
              "  </thead>\n",
              "  <tbody>\n",
              "    <tr>\n",
              "      <th>0</th>\n",
              "      <td>7.6</td>\n",
              "      <td>157</td>\n",
              "    </tr>\n",
              "    <tr>\n",
              "      <th>1</th>\n",
              "      <td>7.1</td>\n",
              "      <td>174</td>\n",
              "    </tr>\n",
              "    <tr>\n",
              "      <th>2</th>\n",
              "      <td>8.2</td>\n",
              "      <td>175</td>\n",
              "    </tr>\n",
              "    <tr>\n",
              "      <th>3</th>\n",
              "      <td>7.5</td>\n",
              "      <td>188</td>\n",
              "    </tr>\n",
              "    <tr>\n",
              "      <th>4</th>\n",
              "      <td>7.4</td>\n",
              "      <td>171</td>\n",
              "    </tr>\n",
              "  </tbody>\n",
              "</table>\n",
              "</div>"
            ],
            "text/plain": [
              "     X    Y\n",
              "0  7.6  157\n",
              "1  7.1  174\n",
              "2  8.2  175\n",
              "3  7.5  188\n",
              "4  7.4  171"
            ]
          },
          "metadata": {},
          "execution_count": 3
        }
      ]
    },
    {
      "cell_type": "markdown",
      "metadata": {
        "id": "VSkV1S7i3OGW"
      },
      "source": [
        "# **Outliers Detection**"
      ]
    },
    {
      "cell_type": "code",
      "metadata": {
        "id": "3ptSmKYt3Smz"
      },
      "source": [
        "outliers = []\n",
        "def detect_outliers_zscore(data):\n",
        "    thres = 3\n",
        "    mean = np.mean(data)\n",
        "    std = np.std(data)\n",
        "    # print(mean, std)\n",
        "    for i in data:\n",
        "        z_score = (i-mean)/std\n",
        "        if (np.abs(z_score) > thres):\n",
        "            outliers.append(i)\n",
        "    return outliers# Driver code"
      ],
      "execution_count": 5,
      "outputs": []
    },
    {
      "cell_type": "code",
      "metadata": {
        "colab": {
          "base_uri": "https://localhost:8080/"
        },
        "id": "EFcoA-te3Ym5",
        "outputId": "7479aa92-5ebe-4f6d-870b-89c69b697031"
      },
      "source": [
        "sample_outliers_A = detect_outliers_zscore(data['X'])\n",
        "sample_outliers_B = detect_outliers_zscore(data['Y'])\n",
        "print(\"Outliers in A column from Z-scores method: \", sample_outliers_A)\n",
        "print(\"Outliers in B column from Z-scores method: \", sample_outliers_B)"
      ],
      "execution_count": 6,
      "outputs": [
        {
          "output_type": "stream",
          "name": "stdout",
          "text": [
            "Outliers in A column from Z-scores method:  []\n",
            "Outliers in B column from Z-scores method:  []\n"
          ]
        }
      ]
    },
    {
      "cell_type": "markdown",
      "metadata": {
        "id": "HiCWtDL83qdO"
      },
      "source": [
        "# **Outlier Treatment**"
      ]
    },
    {
      "cell_type": "code",
      "metadata": {
        "id": "OmwDx3AM3uq0",
        "colab": {
          "base_uri": "https://localhost:8080/",
          "height": 1000
        },
        "outputId": "b2406312-a648-4162-8f6c-72b9b94fbb70"
      },
      "source": [
        "from scipy.stats import zscore\n",
        "zA = np.abs(zscore(data['X']))\n",
        "zB = np.abs(zscore(data['Y']))\n",
        "data['ZscoreA'] = zA\n",
        "data['ZscoreB'] = zB\n",
        "outliers_A=len(data[data['ZscoreA']>3])\n",
        "outliers_B=len(data[data['ZscoreB']>3])\n",
        "data_z = data[data['ZscoreA']<3]\n",
        "data=data_z.drop(['ZscoreA', 'ZscoreB'], axis=1)\n",
        "data"
      ],
      "execution_count": 7,
      "outputs": [
        {
          "output_type": "execute_result",
          "data": {
            "text/html": [
              "<div>\n",
              "<style scoped>\n",
              "    .dataframe tbody tr th:only-of-type {\n",
              "        vertical-align: middle;\n",
              "    }\n",
              "\n",
              "    .dataframe tbody tr th {\n",
              "        vertical-align: top;\n",
              "    }\n",
              "\n",
              "    .dataframe thead th {\n",
              "        text-align: right;\n",
              "    }\n",
              "</style>\n",
              "<table border=\"1\" class=\"dataframe\">\n",
              "  <thead>\n",
              "    <tr style=\"text-align: right;\">\n",
              "      <th></th>\n",
              "      <th>X</th>\n",
              "      <th>Y</th>\n",
              "    </tr>\n",
              "  </thead>\n",
              "  <tbody>\n",
              "    <tr>\n",
              "      <th>0</th>\n",
              "      <td>7.6</td>\n",
              "      <td>157</td>\n",
              "    </tr>\n",
              "    <tr>\n",
              "      <th>1</th>\n",
              "      <td>7.1</td>\n",
              "      <td>174</td>\n",
              "    </tr>\n",
              "    <tr>\n",
              "      <th>2</th>\n",
              "      <td>8.2</td>\n",
              "      <td>175</td>\n",
              "    </tr>\n",
              "    <tr>\n",
              "      <th>3</th>\n",
              "      <td>7.5</td>\n",
              "      <td>188</td>\n",
              "    </tr>\n",
              "    <tr>\n",
              "      <th>4</th>\n",
              "      <td>7.4</td>\n",
              "      <td>171</td>\n",
              "    </tr>\n",
              "    <tr>\n",
              "      <th>5</th>\n",
              "      <td>7.8</td>\n",
              "      <td>143</td>\n",
              "    </tr>\n",
              "    <tr>\n",
              "      <th>6</th>\n",
              "      <td>7.3</td>\n",
              "      <td>217</td>\n",
              "    </tr>\n",
              "    <tr>\n",
              "      <th>7</th>\n",
              "      <td>8.0</td>\n",
              "      <td>190</td>\n",
              "    </tr>\n",
              "    <tr>\n",
              "      <th>8</th>\n",
              "      <td>7.1</td>\n",
              "      <td>142</td>\n",
              "    </tr>\n",
              "    <tr>\n",
              "      <th>9</th>\n",
              "      <td>7.5</td>\n",
              "      <td>190</td>\n",
              "    </tr>\n",
              "    <tr>\n",
              "      <th>10</th>\n",
              "      <td>8.1</td>\n",
              "      <td>215</td>\n",
              "    </tr>\n",
              "    <tr>\n",
              "      <th>11</th>\n",
              "      <td>7.0</td>\n",
              "      <td>199</td>\n",
              "    </tr>\n",
              "    <tr>\n",
              "      <th>12</th>\n",
              "      <td>7.3</td>\n",
              "      <td>262</td>\n",
              "    </tr>\n",
              "    <tr>\n",
              "      <th>13</th>\n",
              "      <td>7.8</td>\n",
              "      <td>105</td>\n",
              "    </tr>\n",
              "    <tr>\n",
              "      <th>14</th>\n",
              "      <td>7.3</td>\n",
              "      <td>121</td>\n",
              "    </tr>\n",
              "    <tr>\n",
              "      <th>15</th>\n",
              "      <td>8.0</td>\n",
              "      <td>81</td>\n",
              "    </tr>\n",
              "    <tr>\n",
              "      <th>16</th>\n",
              "      <td>8.5</td>\n",
              "      <td>82</td>\n",
              "    </tr>\n",
              "    <tr>\n",
              "      <th>17</th>\n",
              "      <td>7.1</td>\n",
              "      <td>210</td>\n",
              "    </tr>\n",
              "    <tr>\n",
              "      <th>18</th>\n",
              "      <td>8.2</td>\n",
              "      <td>202</td>\n",
              "    </tr>\n",
              "    <tr>\n",
              "      <th>19</th>\n",
              "      <td>7.9</td>\n",
              "      <td>155</td>\n",
              "    </tr>\n",
              "    <tr>\n",
              "      <th>20</th>\n",
              "      <td>7.6</td>\n",
              "      <td>157</td>\n",
              "    </tr>\n",
              "    <tr>\n",
              "      <th>21</th>\n",
              "      <td>8.8</td>\n",
              "      <td>147</td>\n",
              "    </tr>\n",
              "    <tr>\n",
              "      <th>22</th>\n",
              "      <td>7.2</td>\n",
              "      <td>133</td>\n",
              "    </tr>\n",
              "    <tr>\n",
              "      <th>23</th>\n",
              "      <td>7.9</td>\n",
              "      <td>53</td>\n",
              "    </tr>\n",
              "    <tr>\n",
              "      <th>24</th>\n",
              "      <td>8.1</td>\n",
              "      <td>56</td>\n",
              "    </tr>\n",
              "    <tr>\n",
              "      <th>25</th>\n",
              "      <td>7.7</td>\n",
              "      <td>113</td>\n",
              "    </tr>\n",
              "    <tr>\n",
              "      <th>26</th>\n",
              "      <td>8.4</td>\n",
              "      <td>35</td>\n",
              "    </tr>\n",
              "    <tr>\n",
              "      <th>27</th>\n",
              "      <td>7.4</td>\n",
              "      <td>125</td>\n",
              "    </tr>\n",
              "    <tr>\n",
              "      <th>28</th>\n",
              "      <td>7.3</td>\n",
              "      <td>76</td>\n",
              "    </tr>\n",
              "    <tr>\n",
              "      <th>29</th>\n",
              "      <td>8.5</td>\n",
              "      <td>48</td>\n",
              "    </tr>\n",
              "    <tr>\n",
              "      <th>30</th>\n",
              "      <td>7.8</td>\n",
              "      <td>147</td>\n",
              "    </tr>\n",
              "    <tr>\n",
              "      <th>31</th>\n",
              "      <td>6.7</td>\n",
              "      <td>117</td>\n",
              "    </tr>\n",
              "    <tr>\n",
              "      <th>32</th>\n",
              "      <td>7.1</td>\n",
              "      <td>182</td>\n",
              "    </tr>\n",
              "    <tr>\n",
              "      <th>33</th>\n",
              "      <td>7.3</td>\n",
              "      <td>87</td>\n",
              "    </tr>\n",
              "  </tbody>\n",
              "</table>\n",
              "</div>"
            ],
            "text/plain": [
              "      X    Y\n",
              "0   7.6  157\n",
              "1   7.1  174\n",
              "2   8.2  175\n",
              "3   7.5  188\n",
              "4   7.4  171\n",
              "5   7.8  143\n",
              "6   7.3  217\n",
              "7   8.0  190\n",
              "8   7.1  142\n",
              "9   7.5  190\n",
              "10  8.1  215\n",
              "11  7.0  199\n",
              "12  7.3  262\n",
              "13  7.8  105\n",
              "14  7.3  121\n",
              "15  8.0   81\n",
              "16  8.5   82\n",
              "17  7.1  210\n",
              "18  8.2  202\n",
              "19  7.9  155\n",
              "20  7.6  157\n",
              "21  8.8  147\n",
              "22  7.2  133\n",
              "23  7.9   53\n",
              "24  8.1   56\n",
              "25  7.7  113\n",
              "26  8.4   35\n",
              "27  7.4  125\n",
              "28  7.3   76\n",
              "29  8.5   48\n",
              "30  7.8  147\n",
              "31  6.7  117\n",
              "32  7.1  182\n",
              "33  7.3   87"
            ]
          },
          "metadata": {},
          "execution_count": 7
        }
      ]
    },
    {
      "cell_type": "markdown",
      "metadata": {
        "id": "Avp4k9t84SGv"
      },
      "source": [
        "# **Missing Values Treatment**"
      ]
    },
    {
      "cell_type": "code",
      "metadata": {
        "colab": {
          "base_uri": "https://localhost:8080/"
        },
        "id": "1yf1gZAG4WQu",
        "outputId": "0701bb0f-0047-4d63-8fc5-837917aa0ee0"
      },
      "source": [
        "print(data.isnull().sum())"
      ],
      "execution_count": 8,
      "outputs": [
        {
          "output_type": "stream",
          "name": "stdout",
          "text": [
            "X    0\n",
            "Y    0\n",
            "dtype: int64\n"
          ]
        }
      ]
    },
    {
      "cell_type": "code",
      "metadata": {
        "id": "pUxTefqq4did",
        "colab": {
          "base_uri": "https://localhost:8080/",
          "height": 1000
        },
        "outputId": "c1b12bb3-385c-4675-833c-2f1deeb58d9c"
      },
      "source": [
        "m1=data['X'].mean()\n",
        "m2=data['Y'].mean()\n",
        "data['X'].fillna(value=m1, inplace=True)\n",
        "data['Y'].fillna(value=m2, inplace=True)\n",
        "data"
      ],
      "execution_count": 9,
      "outputs": [
        {
          "output_type": "execute_result",
          "data": {
            "text/html": [
              "<div>\n",
              "<style scoped>\n",
              "    .dataframe tbody tr th:only-of-type {\n",
              "        vertical-align: middle;\n",
              "    }\n",
              "\n",
              "    .dataframe tbody tr th {\n",
              "        vertical-align: top;\n",
              "    }\n",
              "\n",
              "    .dataframe thead th {\n",
              "        text-align: right;\n",
              "    }\n",
              "</style>\n",
              "<table border=\"1\" class=\"dataframe\">\n",
              "  <thead>\n",
              "    <tr style=\"text-align: right;\">\n",
              "      <th></th>\n",
              "      <th>X</th>\n",
              "      <th>Y</th>\n",
              "    </tr>\n",
              "  </thead>\n",
              "  <tbody>\n",
              "    <tr>\n",
              "      <th>0</th>\n",
              "      <td>7.6</td>\n",
              "      <td>157</td>\n",
              "    </tr>\n",
              "    <tr>\n",
              "      <th>1</th>\n",
              "      <td>7.1</td>\n",
              "      <td>174</td>\n",
              "    </tr>\n",
              "    <tr>\n",
              "      <th>2</th>\n",
              "      <td>8.2</td>\n",
              "      <td>175</td>\n",
              "    </tr>\n",
              "    <tr>\n",
              "      <th>3</th>\n",
              "      <td>7.5</td>\n",
              "      <td>188</td>\n",
              "    </tr>\n",
              "    <tr>\n",
              "      <th>4</th>\n",
              "      <td>7.4</td>\n",
              "      <td>171</td>\n",
              "    </tr>\n",
              "    <tr>\n",
              "      <th>5</th>\n",
              "      <td>7.8</td>\n",
              "      <td>143</td>\n",
              "    </tr>\n",
              "    <tr>\n",
              "      <th>6</th>\n",
              "      <td>7.3</td>\n",
              "      <td>217</td>\n",
              "    </tr>\n",
              "    <tr>\n",
              "      <th>7</th>\n",
              "      <td>8.0</td>\n",
              "      <td>190</td>\n",
              "    </tr>\n",
              "    <tr>\n",
              "      <th>8</th>\n",
              "      <td>7.1</td>\n",
              "      <td>142</td>\n",
              "    </tr>\n",
              "    <tr>\n",
              "      <th>9</th>\n",
              "      <td>7.5</td>\n",
              "      <td>190</td>\n",
              "    </tr>\n",
              "    <tr>\n",
              "      <th>10</th>\n",
              "      <td>8.1</td>\n",
              "      <td>215</td>\n",
              "    </tr>\n",
              "    <tr>\n",
              "      <th>11</th>\n",
              "      <td>7.0</td>\n",
              "      <td>199</td>\n",
              "    </tr>\n",
              "    <tr>\n",
              "      <th>12</th>\n",
              "      <td>7.3</td>\n",
              "      <td>262</td>\n",
              "    </tr>\n",
              "    <tr>\n",
              "      <th>13</th>\n",
              "      <td>7.8</td>\n",
              "      <td>105</td>\n",
              "    </tr>\n",
              "    <tr>\n",
              "      <th>14</th>\n",
              "      <td>7.3</td>\n",
              "      <td>121</td>\n",
              "    </tr>\n",
              "    <tr>\n",
              "      <th>15</th>\n",
              "      <td>8.0</td>\n",
              "      <td>81</td>\n",
              "    </tr>\n",
              "    <tr>\n",
              "      <th>16</th>\n",
              "      <td>8.5</td>\n",
              "      <td>82</td>\n",
              "    </tr>\n",
              "    <tr>\n",
              "      <th>17</th>\n",
              "      <td>7.1</td>\n",
              "      <td>210</td>\n",
              "    </tr>\n",
              "    <tr>\n",
              "      <th>18</th>\n",
              "      <td>8.2</td>\n",
              "      <td>202</td>\n",
              "    </tr>\n",
              "    <tr>\n",
              "      <th>19</th>\n",
              "      <td>7.9</td>\n",
              "      <td>155</td>\n",
              "    </tr>\n",
              "    <tr>\n",
              "      <th>20</th>\n",
              "      <td>7.6</td>\n",
              "      <td>157</td>\n",
              "    </tr>\n",
              "    <tr>\n",
              "      <th>21</th>\n",
              "      <td>8.8</td>\n",
              "      <td>147</td>\n",
              "    </tr>\n",
              "    <tr>\n",
              "      <th>22</th>\n",
              "      <td>7.2</td>\n",
              "      <td>133</td>\n",
              "    </tr>\n",
              "    <tr>\n",
              "      <th>23</th>\n",
              "      <td>7.9</td>\n",
              "      <td>53</td>\n",
              "    </tr>\n",
              "    <tr>\n",
              "      <th>24</th>\n",
              "      <td>8.1</td>\n",
              "      <td>56</td>\n",
              "    </tr>\n",
              "    <tr>\n",
              "      <th>25</th>\n",
              "      <td>7.7</td>\n",
              "      <td>113</td>\n",
              "    </tr>\n",
              "    <tr>\n",
              "      <th>26</th>\n",
              "      <td>8.4</td>\n",
              "      <td>35</td>\n",
              "    </tr>\n",
              "    <tr>\n",
              "      <th>27</th>\n",
              "      <td>7.4</td>\n",
              "      <td>125</td>\n",
              "    </tr>\n",
              "    <tr>\n",
              "      <th>28</th>\n",
              "      <td>7.3</td>\n",
              "      <td>76</td>\n",
              "    </tr>\n",
              "    <tr>\n",
              "      <th>29</th>\n",
              "      <td>8.5</td>\n",
              "      <td>48</td>\n",
              "    </tr>\n",
              "    <tr>\n",
              "      <th>30</th>\n",
              "      <td>7.8</td>\n",
              "      <td>147</td>\n",
              "    </tr>\n",
              "    <tr>\n",
              "      <th>31</th>\n",
              "      <td>6.7</td>\n",
              "      <td>117</td>\n",
              "    </tr>\n",
              "    <tr>\n",
              "      <th>32</th>\n",
              "      <td>7.1</td>\n",
              "      <td>182</td>\n",
              "    </tr>\n",
              "    <tr>\n",
              "      <th>33</th>\n",
              "      <td>7.3</td>\n",
              "      <td>87</td>\n",
              "    </tr>\n",
              "  </tbody>\n",
              "</table>\n",
              "</div>"
            ],
            "text/plain": [
              "      X    Y\n",
              "0   7.6  157\n",
              "1   7.1  174\n",
              "2   8.2  175\n",
              "3   7.5  188\n",
              "4   7.4  171\n",
              "5   7.8  143\n",
              "6   7.3  217\n",
              "7   8.0  190\n",
              "8   7.1  142\n",
              "9   7.5  190\n",
              "10  8.1  215\n",
              "11  7.0  199\n",
              "12  7.3  262\n",
              "13  7.8  105\n",
              "14  7.3  121\n",
              "15  8.0   81\n",
              "16  8.5   82\n",
              "17  7.1  210\n",
              "18  8.2  202\n",
              "19  7.9  155\n",
              "20  7.6  157\n",
              "21  8.8  147\n",
              "22  7.2  133\n",
              "23  7.9   53\n",
              "24  8.1   56\n",
              "25  7.7  113\n",
              "26  8.4   35\n",
              "27  7.4  125\n",
              "28  7.3   76\n",
              "29  8.5   48\n",
              "30  7.8  147\n",
              "31  6.7  117\n",
              "32  7.1  182\n",
              "33  7.3   87"
            ]
          },
          "metadata": {},
          "execution_count": 9
        }
      ]
    },
    {
      "cell_type": "markdown",
      "metadata": {
        "id": "RvE-rfUb4qe-"
      },
      "source": [
        "# **Data Split**"
      ]
    },
    {
      "cell_type": "code",
      "metadata": {
        "id": "qMdY9hHB4tZa"
      },
      "source": [
        "from sklearn.model_selection import train_test_split\n",
        "x_train, x_test, y_train, y_test = train_test_split(data.X, data.Y, test_size = 0.10, random_state = 10)"
      ],
      "execution_count": 10,
      "outputs": []
    },
    {
      "cell_type": "markdown",
      "metadata": {
        "id": "vormG_7l5CPY"
      },
      "source": [
        "# **Initialization**"
      ]
    },
    {
      "cell_type": "code",
      "metadata": {
        "id": "yxyhcO1-5Fj-"
      },
      "source": [
        "m1=random.uniform(-1,1)\n",
        "m2=random.uniform(-1,1)\n",
        "c=random.uniform(-1,1)\n",
        "eta=0.0001\n",
        "max_iter=10"
      ],
      "execution_count": 11,
      "outputs": []
    },
    {
      "cell_type": "markdown",
      "metadata": {
        "id": "1RwWrW4O5J6x"
      },
      "source": [
        "# **Gradient Calculation**"
      ]
    },
    {
      "cell_type": "code",
      "metadata": {
        "id": "y0FwrJ_55OBb"
      },
      "source": [
        "def gradient(m1,m2,c,x,y):\n",
        "  m1_deriv=-1*(y-m1*x*x-m2*x-c)*x*x\n",
        "  m2_deriv=-1*(y-m1*x*x-m2*x-c)*x\n",
        "  c_deriv=-1*(y-m1*x*x-m2*x-c)\n",
        "  return m1_deriv,m2_deriv,c_deriv"
      ],
      "execution_count": 12,
      "outputs": []
    },
    {
      "cell_type": "markdown",
      "metadata": {
        "id": "MvMmc9k95TPm"
      },
      "source": [
        "# **Training Using Stochastic Gradient Descent Optimizer**"
      ]
    },
    {
      "cell_type": "code",
      "metadata": {
        "colab": {
          "base_uri": "https://localhost:8080/"
        },
        "id": "i3oN9XIj5VZV",
        "outputId": "65ec852f-72ff-46c2-9faa-cf546d050b32"
      },
      "source": [
        "for iter in range(max_iter):\n",
        "  for sample in range(x_train.shape[0]):\n",
        "    del_m1,del_m2,del_c=gradient(m1, m2, c, x_train.iloc[sample], y_train.iloc[sample])\n",
        "    m1=m1-eta*del_m1\n",
        "    m2=m2-eta*del_m2\n",
        "    c=c-eta*del_c\n",
        "print('model parameter m1, m2 and c',m1,m2,c)"
      ],
      "execution_count": 13,
      "outputs": [
        {
          "output_type": "stream",
          "name": "stdout",
          "text": [
            "model parameter m1, m2 and c 2.365051509207206 0.7485209818521343 -0.5794934483550871\n"
          ]
        }
      ]
    },
    {
      "cell_type": "markdown",
      "metadata": {
        "id": "4PRltlTc7Ku0"
      },
      "source": [
        "# **Model Prediction on Training Data**"
      ]
    },
    {
      "cell_type": "code",
      "metadata": {
        "id": "gSoDI4qV7NR0"
      },
      "source": [
        "y_pred_train = []\n",
        "for i in x_train:\n",
        "  y_p_tr = (m1 * i*i)+(m2 * i) + c\n",
        "  y_pred_train.append(y_p_tr)\n",
        "y_pred_train = np.array(y_pred_train)"
      ],
      "execution_count": 14,
      "outputs": []
    },
    {
      "cell_type": "markdown",
      "metadata": {
        "id": "Fnxor2bl7S1b"
      },
      "source": [
        "# **Model Prediction on Testing Data**"
      ]
    },
    {
      "cell_type": "code",
      "metadata": {
        "id": "p2oRpbAL7VKd"
      },
      "source": [
        "y_pred_test = []\n",
        "for i in x_test:\n",
        "  y_p_te = (m1 * i*i)+(m2 * i) + c\n",
        "  y_pred_test.append(y_p_te)\n",
        "y_pred_test = np.array(y_pred_test)"
      ],
      "execution_count": 15,
      "outputs": []
    },
    {
      "cell_type": "markdown",
      "metadata": {
        "id": "k2Vjv2eN7aH8"
      },
      "source": [
        "# **Error Metrics Calculation**"
      ]
    },
    {
      "cell_type": "code",
      "metadata": {
        "colab": {
          "base_uri": "https://localhost:8080/"
        },
        "id": "ZAP_0pOS7bzk",
        "outputId": "8fabf3f3-7226-4be2-85c7-7fd33654b448"
      },
      "source": [
        "import math\n",
        "from sklearn.metrics import mean_squared_error \n",
        "from sklearn.metrics import mean_absolute_error\n",
        "\n",
        "\n",
        "#Training Accuracies\n",
        "rmse = math.sqrt(mean_squared_error(y_train, y_pred_train)) \n",
        "print('Root mean square error', rmse) \n",
        "mse = (mean_squared_error(y_train, y_pred_train)) \n",
        "print('Mean square error', mse) \n",
        "mae=mean_absolute_error(y_train, y_pred_train)\n",
        "print('Mean absolute error', mae)"
      ],
      "execution_count": 16,
      "outputs": [
        {
          "output_type": "stream",
          "name": "stdout",
          "text": [
            "Root mean square error 65.02011671250723\n",
            "Mean square error 4227.615577308063\n",
            "Mean absolute error 52.117881360784395\n"
          ]
        }
      ]
    },
    {
      "cell_type": "code",
      "metadata": {
        "colab": {
          "base_uri": "https://localhost:8080/"
        },
        "id": "qiNDDfgj7yjq",
        "outputId": "cf889bb6-636d-4a2f-b0bf-270e67cc72af"
      },
      "source": [
        "#Testing Accuracies\n",
        "mse = (mean_squared_error(y_test, y_pred_test)) \n",
        "print('Mean square error', mse)\n",
        "mse = mt.sqrt(mean_squared_error(y_test, y_pred_test)) \n",
        "print('Root mean square error', mse)  \n",
        "mae=mean_absolute_error(y_test, y_pred_test)\n",
        "print('Mean absolute error', mae)"
      ],
      "execution_count": 17,
      "outputs": [
        {
          "output_type": "stream",
          "name": "stdout",
          "text": [
            "Mean square error 2807.782283488349\n",
            "Root mean square error 52.988510863095115\n",
            "Mean absolute error 37.29153651549214\n"
          ]
        }
      ]
    },
    {
      "cell_type": "code",
      "metadata": {
        "colab": {
          "base_uri": "https://localhost:8080/"
        },
        "id": "nLkxFs7j73WR",
        "outputId": "43c69ef6-6ce2-47fa-a4fe-4d22994a9667"
      },
      "source": [
        "x=input(\"Enter value of input\")\n",
        "estimation=m1*float(x)*float(x)+m2*float(x)+c\n",
        "print(\"estimated output:\",estimation)"
      ],
      "execution_count": 18,
      "outputs": [
        {
          "output_type": "stream",
          "name": "stdout",
          "text": [
            "Enter value of input7.1\n",
            "estimated output: 123.95725210193032\n"
          ]
        }
      ]
    }
  ]
}