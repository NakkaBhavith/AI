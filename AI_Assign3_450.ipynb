{
  "nbformat": 4,
  "nbformat_minor": 0,
  "metadata": {
    "colab": {
      "name": "AI_Assign3 450.ipynb",
      "provenance": [],
      "collapsed_sections": [],
      "authorship_tag": "ABX9TyNA2lxjE+zUseUVmpS2d3Gm",
      "include_colab_link": true
    },
    "kernelspec": {
      "name": "python3",
      "display_name": "Python 3"
    },
    "language_info": {
      "name": "python"
    }
  },
  "cells": [
    {
      "cell_type": "markdown",
      "metadata": {
        "id": "view-in-github",
        "colab_type": "text"
      },
      "source": [
        "<a href=\"https://colab.research.google.com/github/NakkaBhavith/AI/blob/main/AI_Assign3_450.ipynb\" target=\"_parent\"><img src=\"https://colab.research.google.com/assets/colab-badge.svg\" alt=\"Open In Colab\"/></a>"
      ]
    },
    {
      "cell_type": "code",
      "metadata": {
        "id": "BNC1cBxVFwwr",
        "colab": {
          "base_uri": "https://localhost:8080/"
        },
        "outputId": "59f452b0-8db9-4e07-b16e-6a16a8a2e27d"
      },
      "source": [
        "import numpy as np\n",
        "import math\n",
        "x=np.random.uniform(-10,10)\n",
        "y=np.random.uniform(-10,10)\n",
        "eta=0.1\n",
        "iter_max=100\n",
        "iter=1\n",
        "while iter<=iter_max:\n",
        "  slope_x = 6*x\n",
        "  slope_y = -5*math.exp(-y)\n",
        "  steplength_x=-eta*slope_x\n",
        "  steplength_y=-eta*slope_y\n",
        "  x=x+steplength_x\n",
        "  y=y+steplength_y\n",
        "  iter=iter+1\n",
        "obj=3*pow(x,2)+5*math.exp(-y)+10\n",
        "print(\"Minimum value of function is = \",obj,'at x =',x,'and y =',y)"
      ],
      "execution_count": 3,
      "outputs": [
        {
          "output_type": "stream",
          "name": "stdout",
          "text": [
            "Minimum value of function is =  10.00170331524605 at x = -3.173489819481886e-40 and y = 7.984616694682552\n"
          ]
        }
      ]
    }
  ]
}