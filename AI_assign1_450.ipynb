{
  "nbformat": 4,
  "nbformat_minor": 0,
  "metadata": {
    "colab": {
      "name": "AI assign1 450.ipynb",
      "provenance": [],
      "authorship_tag": "ABX9TyPPTdG3yxON7cE1rrl/HKkN",
      "include_colab_link": true
    },
    "kernelspec": {
      "name": "python3",
      "display_name": "Python 3"
    },
    "language_info": {
      "name": "python"
    }
  },
  "cells": [
    {
      "cell_type": "markdown",
      "metadata": {
        "id": "view-in-github",
        "colab_type": "text"
      },
      "source": [
        "<a href=\"https://colab.research.google.com/github/NakkaBhavith/AI/blob/main/AI_assign1_450.ipynb\" target=\"_parent\"><img src=\"https://colab.research.google.com/assets/colab-badge.svg\" alt=\"Open In Colab\"/></a>"
      ]
    },
    {
      "cell_type": "code",
      "metadata": {
        "colab": {
          "base_uri": "https://localhost:8080/"
        },
        "id": "ozFnFnYDZDNk",
        "outputId": "4a6aec85-dbf4-4218-c86d-a1a63a51ce0b"
      },
      "source": [
        "from scipy.optimize import linprog\n",
        "obj = [-50,-120]\n",
        "A_ieq = [[7000,2000],[10,30],[1,1]]\n",
        "B_ieq = [700000,1200,110]\n",
        "boundary = [(0, float(\"inf\")),(0, float(\"inf\"))]\n",
        "opt = linprog(c=obj, A_ub=A_ieq, b_ub=B_ieq, A_eq=None, b_eq=None, bounds=boundary, method=\"Simplex\")\n",
        "opt.x\n",
        "print(\"The total area for growing wheat = \",round(opt.x[0]))\n",
        "print(\"The total area for growing barley = \",round(opt.x[1]))\n",
        "profit = round(opt.x[0]*50 + opt.x[1]*120)\n",
        "print(\"Total profit is = Rs.\",profit)"
      ],
      "execution_count": 2,
      "outputs": [
        {
          "output_type": "stream",
          "text": [
            "The total area for growing wheat =  98\n",
            "The total area for growing barley =  7\n",
            "Total profit is = Rs. 5779\n"
          ],
          "name": "stdout"
        }
      ]
    }
  ]
}