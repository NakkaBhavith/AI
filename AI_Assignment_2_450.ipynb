{
  "nbformat": 4,
  "nbformat_minor": 0,
  "metadata": {
    "colab": {
      "name": "AI_Assignment 2 450.ipynb",
      "provenance": [],
      "collapsed_sections": [],
      "authorship_tag": "ABX9TyNZxR6esZ+epaR2hSI3Eov8",
      "include_colab_link": true
    },
    "kernelspec": {
      "name": "python3",
      "display_name": "Python 3"
    },
    "language_info": {
      "name": "python"
    }
  },
  "cells": [
    {
      "cell_type": "markdown",
      "metadata": {
        "id": "view-in-github",
        "colab_type": "text"
      },
      "source": [
        "<a href=\"https://colab.research.google.com/github/NakkaBhavith/AI/blob/main/AI_Assignment_2_450.ipynb\" target=\"_parent\"><img src=\"https://colab.research.google.com/assets/colab-badge.svg\" alt=\"Open In Colab\"/></a>"
      ]
    },
    {
      "cell_type": "code",
      "metadata": {
        "id": "VZ1OIHpwDCA-",
        "colab": {
          "base_uri": "https://localhost:8080/"
        },
        "outputId": "12ea2f9b-e302-4cba-e136-d39b50243c7a"
      },
      "source": [
        "import numpy as np\n",
        "import math\n",
        "x=np.random.uniform(-10,10)\n",
        "eta=0.01\n",
        "iter_max=30\n",
        "iter=1\n",
        "while iter<=iter_max:\n",
        "  slope = 4*pow(x,3) + 6*x\n",
        "  step_length=-eta*slope\n",
        "  x=x+step_length\n",
        "  iter=iter+1\n",
        "obj=pow(x,4)+3*pow(x,2)+10\n",
        "print(\"Minimum value of function is =\",obj,'at x =',x)"
      ],
      "execution_count": 6,
      "outputs": [
        {
          "output_type": "stream",
          "name": "stdout",
          "text": [
            "Minimum value of function is = 10.072228217792665 at x = 0.15455061939126613\n"
          ]
        }
      ]
    }
  ]
}