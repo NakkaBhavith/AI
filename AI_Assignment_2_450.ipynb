{
  "nbformat": 4,
  "nbformat_minor": 0,
  "metadata": {
    "colab": {
      "name": "AI_Assignment 2 450.ipynb",
      "provenance": [],
      "collapsed_sections": [],
      "authorship_tag": "ABX9TyPcJo1pY9pwSdp2KEVQN5Bo",
      "include_colab_link": true
    },
    "kernelspec": {
      "name": "python3",
      "display_name": "Python 3"
    },
    "language_info": {
      "name": "python"
    }
  },
  "cells": [
    {
      "cell_type": "markdown",
      "metadata": {
        "id": "view-in-github",
        "colab_type": "text"
      },
      "source": [
        "<a href=\"https://colab.research.google.com/github/NakkaBhavith/AI/blob/main/AI_Assignment_2_450.ipynb\" target=\"_parent\"><img src=\"https://colab.research.google.com/assets/colab-badge.svg\" alt=\"Open In Colab\"/></a>"
      ]
    },
    {
      "cell_type": "code",
      "metadata": {
        "id": "VZ1OIHpwDCA-",
        "colab": {
          "base_uri": "https://localhost:8080/"
        },
        "outputId": "5ba0f283-fe0a-45b0-a7b4-2838c032f48b"
      },
      "source": [
        "import numpy as np\n",
        "import math\n",
        "x=np.random.uniform(-10,10)\n",
        "eta=0.01\n",
        "iter_max=100\n",
        "iter=1\n",
        "while iter<=iter_max:\n",
        "  slope = 4*pow(x,3) + 6*x\n",
        "  step_length=-eta*slope\n",
        "  x=x+step_length\n",
        "  iter=iter+1\n",
        "obj=pow(x,4)+3*pow(x,2)+10\n",
        "print(\"Minimum value of function is =\",obj,'at x =',x)"
      ],
      "execution_count": 7,
      "outputs": [
        {
          "output_type": "stream",
          "name": "stdout",
          "text": [
            "Minimum value of function is = 10.000013841820143 at x = 0.002148006739148908\n"
          ]
        }
      ]
    }
  ]
}